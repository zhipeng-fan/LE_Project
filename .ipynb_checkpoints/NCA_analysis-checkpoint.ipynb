{
 "cells": [
  {
   "cell_type": "code",
   "execution_count": null,
   "metadata": {
    "collapsed": true
   },
   "outputs": [],
   "source": [
    "# moderate+severe => 1 class\n",
    "# "
   ]
  },
  {
   "cell_type": "code",
   "execution_count": 23,
   "metadata": {
    "collapsed": false
   },
   "outputs": [],
   "source": [
    "from sklearn.model_selection import cross_val_score, LeaveOneOut\n",
    "from sklearn.decomposition import PCA\n",
    "from sklearn.metrics import log_loss, accuracy_score\n",
    "from nca import *\n",
    "import pandas as pd\n",
    "import numpy as np\n",
    "from sklearn.neighbors import KNeighborsClassifier as kNN\n",
    "import matplotlib\n",
    "%matplotlib inline\n",
    "import seaborn as sns; sns.set()\n",
    "from matplotlib import animation, rc\n",
    "from matplotlib import pyplot as plt\n",
    "from IPython.display import HTML\n",
    "from tqdm import tqdm\n",
    "import pdb\n",
    "import pickle"
   ]
  },
  {
   "cell_type": "code",
   "execution_count": 2,
   "metadata": {
    "collapsed": true
   },
   "outputs": [],
   "source": [
    "# def applyA(A, vec):\n",
    "#     #return np.matmul(A, vec)\n",
    "#     # pdb.set_trace()\n",
    "#     result = np.zeros(vec.shape)\n",
    "#     for i in range(A.shape[0]):\n",
    "#         result[i] = A[i, i] * vec[i]\n",
    "#     return result\n",
    "\n",
    "# def compute_softmax_norm_i(A, inp, i):\n",
    "#     softmax_norm = 0.\n",
    "#     for k in range(inp.shape[0]):\n",
    "#         if i == k: continue\n",
    "#         exponent = applyA(A, inp[i]) - applyA(A, inp[k])\n",
    "#         exponent = np.dot(exponent, exponent)\n",
    "#         softmax_norm += np.exp(-exponent)\n",
    "#     return softmax_norm\n",
    "        \n",
    "def compute_pij_matrix(A, inp):\n",
    "#     pdb.set_trace()\n",
    "    trans_inp = transform(A, inp)\n",
    "    sample_num = inp.shape[0]\n",
    "    v_mat = np.tile(np.expand_dims(trans_inp, axis=0), (sample_num,1,1))\n",
    "    h_mat = np.tile(np.expand_dims(trans_inp, axis=1), (1,sample_num,1))\n",
    "    pij_mat = np.sum((h_mat[:,:,:2]-v_mat[:,:,:2])**2, axis=-1)\n",
    "    pij_mat = np.exp(-pij_mat)-np.eye(sample_num)\n",
    "    sum = np.sum(pij_mat, axis = -1)\n",
    "    sum_mat = np.tile(np.expand_dims(sum, axis=1), (1, sample_num))\n",
    "    pij_mat = np.divide(pij_mat, sum_mat)\n",
    "    return pij_mat\n",
    "\n",
    "def nca_fast(A, inp, label, lr=0.5):\n",
    "#     inp = transform(A, inp)\n",
    "    pij_mat = compute_pij_matrix(A, inp)\n",
    "#     pdb.set_trace()\n",
    "#     trans_data = transform(A, inp)\n",
    "    diff = 0\n",
    "    for i in range(inp.shape[0]):\n",
    "        p = 0.\n",
    "        for j in range(inp.shape[0]):\n",
    "            if label[i] == label[j]:\n",
    "                p += pij_mat[i,j]\n",
    "        first_term = np.zeros( (inp.shape[1], inp.shape[1]) )\n",
    "        second_term = np.zeros( (inp.shape[1], inp.shape[1]) )\n",
    "        for k in range(inp.shape[0]):\n",
    "#             if i == k: continue\n",
    "#             print (inp.shape)\n",
    "#             pdb.set_trace()\n",
    "            xik = inp[i] - inp[k]\n",
    "            pik = pij_mat[i, k]\n",
    "            term = pik * np.outer(xik, xik)\n",
    "            #print 'term=',term\n",
    "            first_term += term\n",
    "            if label[k] == label[i]:\n",
    "                second_term += term\n",
    "        first_term *= p\n",
    "        #print 'i,1st,2nd:',i, first_term, second_term\n",
    "#         pdb.set_trace()\n",
    "        diff += first_term-second_term\n",
    "#         pdb.set_trace()\n",
    "    A += lr*2*np.matmul(A, diff)\n",
    "    return A\n",
    "            \n",
    "            \n",
    "    \n",
    "# def compute_pij(A, inp, i, j):\n",
    "#     if i == j: return 0 # since pij == 0\n",
    "#     exponent = applyA(A, inp[i]) - applyA(A, inp[j])\n",
    "#     exponent = np.dot(exponent, exponent)\n",
    "#     pij = np.exp(-exponent) / compute_softmax_norm_i(A, inp, i)\n",
    "#     return pij\n",
    "\n",
    "# def nca(A, inp, label, lr=0.5):\n",
    "#     inp = transform(A, inp)\n",
    "#     for i in range(inp.shape[0]):\n",
    "#         p = 0.\n",
    "#         for j in range(inp.shape[0]):\n",
    "#             if label[i] == label[j]:\n",
    "#                 p += compute_pij(A, inp, i, j)\n",
    "       \n",
    "#         #print 'p=',p\n",
    "#         first_term = np.zeros( (inp.shape[1], inp.shape[1]) )\n",
    "#         second_term = np.zeros( (inp.shape[1], inp.shape[1]) )\n",
    "#         for k in range(inp.shape[0]):\n",
    "#             if i == k: continue\n",
    "#             xik = inp[i] - inp[k]\n",
    "#             pik = compute_pij(A, inp, i, k)\n",
    "#             term = pik * np.outer(xik, xik)\n",
    "#             #print 'term=',term\n",
    "#             first_term += term\n",
    "#             if label[k] == label[i]:\n",
    "#                 second_term += term\n",
    "#         first_term *= p\n",
    "#         #print 'i,1st,2nd:',i, first_term, second_term\n",
    "#         A += lr * (first_term - second_term)\n",
    "#     return A\n",
    "\n",
    "def transform(A, inp):\n",
    "    # out = np.zeros(inp.shape)\n",
    "    # for i in range(len(out)):\n",
    "    #     out[i] = applyA(A, inp[i])\n",
    "    # return out \n",
    "    A_T = np.transpose(A)\n",
    "    return np.matmul(inp, A_T)"
   ]
  },
  {
   "cell_type": "code",
   "execution_count": 3,
   "metadata": {
    "collapsed": false
   },
   "outputs": [
    {
     "data": {
      "image/png": "[encoded data removed]",
      "text/plain": [
       "<matplotlib.figure.Figure at 0x1a1b19f668>"
      ]
     },
     "metadata": {},
     "output_type": "display_data"
    }
   ],
   "source": [
    "# X = np.matrix(data)\n",
    "# y = labels\n",
    "\n",
    "X = np.array( [[0,0], [0.,0.1], [0.3,0.1], [0.3, 0.0]] )\n",
    "y = np.array( [0, 1, 1, 0] )\n",
    "\n",
    "Xcl1 = np.matrix(X[y == 0])\n",
    "Xcl2 = np.matrix(X[y == 1])\n",
    "# Xcl3 = np.matrix(X[y == 2])\n",
    "# Xcl4 = np.matrix(X[y == 3])\n",
    "\n",
    "# y = np.matrix(labels)\n",
    "\n",
    "cl1, = plt.plot(Xcl1[:,0], Xcl1[:,1], linestyle='', marker='o', color='b')\n",
    "cl2, = plt.plot(Xcl2[:,0], Xcl2[:,1], linestyle='', marker='o', color='r')\n",
    "# cl3, = plt.plot(Xcl3[:,0], Xcl3[:,1], linestyle='', marker='o', color='g')\n",
    "# cl4, = plt.plot(Xcl4[:,0], Xcl4[:,1], linestyle='', marker='o', color='c')\n",
    "# plt.xlim((-0.5, 0.5))\n",
    "# plt.ylim((-0.5, 0.5))"
   ]
  },
  {
   "cell_type": "code",
   "execution_count": 4,
   "metadata": {
    "collapsed": false
   },
   "outputs": [
    {
     "data": {
      "image/png": "[encoded data removed]",
      "text/plain": [
       "<matplotlib.figure.Figure at 0x1a1ecc6978>"
      ]
     },
     "metadata": {},
     "output_type": "display_data"
    }
   ],
   "source": [
    "data_frame = pd.read_excel('../NEW_AVON_newdata_comparative_CombineProspective_GetNoneLE_AllWithSym_ProcessedData.xlsx', sheetname='Sheet1')\n",
    "\n",
    "labels = data_frame['LEStage']\n",
    "\n",
    "df = pd.DataFrame(data_frame)\n",
    "\n",
    "data = df.drop(['LEStage', 'AffectedLV', 'Non-AffectLV', 'LESYM17_Blister'], axis=1)\n",
    "\n",
    "X = np.matrix(data)\n",
    "std = np.std(X, axis=0)\n",
    "mean = np.mean(X, axis=0)\n",
    "X = X-mean\n",
    "# X = X/std\n",
    "y = labels\n",
    "\n",
    "Xcl1 = np.matrix(X[y == 0])\n",
    "Xcl2 = np.matrix(X[y == 1])\n",
    "Xcl3 = np.matrix(X[y == 2])\n",
    "Xcl4 = np.matrix(X[y == 3])\n",
    "\n",
    "cl1, = plt.plot(Xcl1[:,0], Xcl1[:,1], linestyle='', marker='o', color='b')\n",
    "cl2, = plt.plot(Xcl2[:,0], Xcl2[:,1], linestyle='', marker='o', color='r')\n",
    "cl3, = plt.plot(Xcl3[:,0], Xcl3[:,1], linestyle='', marker='o', color='g')\n",
    "cl4, = plt.plot(Xcl4[:,0], Xcl4[:,1], linestyle='', marker='o', color='c')\n",
    "# plt.xlim((-0.5, 0.5))\n",
    "# plt.ylim((-0.5, 0.5))"
   ]
  },
  {
   "cell_type": "code",
   "execution_count": 5,
   "metadata": {
    "collapsed": false
   },
   "outputs": [],
   "source": [
    "pca = PCA(n_components=2)\n",
    "pca.fit(X)\n",
    "A = pca.components_\n",
    "Xtrfmed = []\n",
    "accs = []\n",
    "diffs = []\n",
    "A_list = []\n",
    "n_elements_in_A = A.shape[0]*A.shape[1]"
   ]
  },
  {
   "cell_type": "code",
   "execution_count": 6,
   "metadata": {
    "collapsed": true
   },
   "outputs": [],
   "source": [
    "# 0.86764\n",
    "np.random.seed(6)\n",
    "# We can initialise the transformation matrix to # We ca \n",
    "# anything we like, here we choose a diagonal matrix.\n",
    "# A = np.random.rand(X.shape[1],X.shape[1])\n",
    "A = np.random.rand(2, X.shape[1])\n",
    "A = np.divide(A.T, np.sum(A, axis=1))\n",
    "A = A.T\n",
    "# A[1,1] = 1\n",
    "# A[1,0] = 1\n",
    "# Store the transformed data, accuracies and the delta_A at each iteration\n",
    "Xtrfmed = []\n",
    "accs = []\n",
    "diffs = []\n",
    "n_elements_in_A = A.shape[0]*A.shape[1]"
   ]
  },
  {
   "cell_type": "code",
   "execution_count": 7,
   "metadata": {
    "collapsed": false
   },
   "outputs": [
    {
     "data": {
      "image/png": "[encoded data removed]",
      "text/plain": [
       "<matplotlib.figure.Figure at 0x1a1e76c748>"
      ]
     },
     "metadata": {},
     "output_type": "display_data"
    }
   ],
   "source": [
    "Xtransformed = transform(A, X)\n",
    "Xcl1 = np.matrix(Xtransformed[y == 0])\n",
    "Xcl2 = np.matrix(Xtransformed[y == 1])\n",
    "Xcl3 = np.matrix(Xtransformed[y == 2])\n",
    "Xcl4 = np.matrix(Xtransformed[y == 3])\n",
    "\n",
    "cl1, = plt.plot(Xcl1[:,0], Xcl1[:,1], linestyle='', marker='o', color='b')\n",
    "cl2, = plt.plot(Xcl2[:,0], Xcl2[:,1], linestyle='', marker='o', color='r')\n",
    "cl3, = plt.plot(Xcl3[:,0], Xcl3[:,1], linestyle='', marker='o', color='g')\n",
    "cl4, = plt.plot(Xcl4[:,0], Xcl4[:,1], linestyle='', marker='o', color='c')"
   ]
  },
  {
   "cell_type": "code",
   "execution_count": 14,
   "metadata": {
    "collapsed": false
   },
   "outputs": [],
   "source": [
    "Xcl1 = np.matrix(X[y == 0])\n",
    "Xcl2 = np.matrix(X[y == 1])\n",
    "Xcl3 = np.matrix(X[y == 2])\n",
    "Xcl4 = np.matrix(X[y == 3])\n",
    "\n",
    "np.random.shuffle(Xcl1)\n",
    "np.random.shuffle(Xcl2)\n",
    "np.random.shuffle(Xcl3)\n",
    "np.random.shuffle(Xcl4)\n",
    "\n",
    "ycl1 = np.array(y[y == 0])\n",
    "ycl2 = np.array(y[y == 1])\n",
    "ycl3 = np.array(y[y == 2])\n",
    "ycl4 = np.array(y[y == 3])\n",
    "\n",
    "len_cl1 = Xcl1.shape[0]\n",
    "len_cl2 = Xcl2.shape[0]\n",
    "len_cl3 = Xcl3.shape[0]\n",
    "len_cl4 = Xcl4.shape[0]\n",
    "\n",
    "def k_fold_test(k=3):\n",
    "    size_cl1 = int(len_cl1/k)\n",
    "    size_cl2 = int(len_cl2/k)\n",
    "    size_cl3 = int(len_cl3/k)\n",
    "    size_cl4 = int(len_cl4/k)\n",
    "    \n",
    "    dataset = []\n",
    "    labelset = []\n",
    "    start_cl1, start_cl2, start_cl3, start_cl4 = 0, 0, 0, 0\n",
    "    for i in range(k-1):\n",
    "        dataset.append(np.vstack((Xcl1[start_cl1: start_cl1+size_cl1], \n",
    "                                 Xcl2[start_cl2: start_cl2+size_cl2],\n",
    "                                 Xcl3[start_cl3: start_cl3+size_cl3],\n",
    "                                 Xcl4[start_cl4: start_cl4+size_cl4])))\n",
    "#         pdb.set_trace()\n",
    "        labelset.append(np.concatenate((ycl1[start_cl1: start_cl1+size_cl1], \n",
    "                                         ycl2[start_cl2: start_cl2+size_cl2],\n",
    "                                         ycl3[start_cl3: start_cl3+size_cl3],\n",
    "                                         ycl4[start_cl4: start_cl4+size_cl4])))\n",
    "        start_cl1 += size_cl1\n",
    "        start_cl2 += size_cl2\n",
    "        start_cl3 += size_cl3\n",
    "        start_cl4 += size_cl4\n",
    "        \n",
    "    dataset.append(np.vstack((Xcl1[start_cl1:], \n",
    "                                 Xcl2[start_cl2:],\n",
    "                                 Xcl3[start_cl3:],\n",
    "                                 Xcl4[start_cl4:])))\n",
    "    \n",
    "    labelset.append(np.concatenate((ycl1[start_cl1:], \n",
    "                                 ycl2[start_cl2:],\n",
    "                                 ycl3[start_cl3:],\n",
    "                                 ycl4[start_cl4:])))\n",
    "    \n",
    "    return dataset, labelset"
   ]
  },
  {
   "cell_type": "code",
   "execution_count": 25,
   "metadata": {
    "collapsed": false
   },
   "outputs": [],
   "source": [
    "dataset, labelset  = k_fold_test()\n",
    "# pickle.dump(dataset, open('dataset.p', 'wb'))\n",
    "# pickle.dump(labelset, open('labelset.p', 'wb'))"
   ]
  },
  {
   "cell_type": "code",
   "execution_count": 20,
   "metadata": {
    "collapsed": false
   },
   "outputs": [],
   "source": [
    "# This is a method to get the accuracy (using leave-one-out validation) of the data# This  \n",
    "def assess_perf(clf, X, y, scoring='accuracy', cv=None):\n",
    "    if cv is None: cv = LeaveOneOut()\n",
    "    scores = cross_val_score(clf, X, y, scoring=scoring, cv=cv)\n",
    "    return np.mean(scores), np.std(scores)\n",
    "\n",
    "def check_knn_score(neighbors_num):\n",
    "    knn = kNN(n_neighbors=neighbors_num, weights='distance', algorithm='brute', n_jobs=-1)\n",
    "    print (assess_perf(knn, X, y, scoring='accuracy'))\n",
    "    \n",
    "# check_knn_score(1)\n",
    "# check_knn_score(3)\n",
    "# check_knn_score(5)\n",
    "# check_knn_score(7)"
   ]
  },
  {
   "cell_type": "code",
   "execution_count": 26,
   "metadata": {
    "collapsed": false,
    "scrolled": false
   },
   "outputs": [
    {
     "name": "stdout",
     "output_type": "stream",
     "text": [
      "------------------------------------------------------------\n",
      "Fold 1:\n",
      "NCA progress:\n",
      "Epoch: 0, Acc:0.9347826086956522, Per_element_change: 0.00779602476515395\n",
      "Epoch: 1, Acc:0.9782608695652174, Per_element_change: 0.0075216452463854775\n",
      "Epoch: 2, Acc:1.0, Per_element_change: 0.010084900437803041\n",
      "Epoch: 3, Acc:1.0, Per_element_change: 0.003551353563341402\n",
      "Epoch: 4, Acc:1.0, Per_element_change: 0.0025455514827249833\n",
      "Epoch: 5, Acc:1.0, Per_element_change: 0.002044649502142196\n",
      "Epoch: 6, Acc:1.0, Per_element_change: 0.0017246371212869482\n",
      "Done!\n",
      "Testing accuracy:  0.863636363636\n",
      "------------------------------------------------------------\n",
      "Fold 2:\n",
      "NCA progress:\n",
      "Epoch: 0, Acc:0.9565217391304348, Per_element_change: 0.005891950721826406\n",
      "Epoch: 1, Acc:0.9782608695652174, Per_element_change: 0.005247690561057478\n",
      "Epoch: 2, Acc:0.9782608695652174, Per_element_change: 0.004313010132344022\n",
      "Epoch: 3, Acc:0.9782608695652174, Per_element_change: 0.0033937827413059916\n",
      "Epoch: 4, Acc:0.9782608695652174, Per_element_change: 0.0027578859348462315\n",
      "Epoch: 5, Acc:0.9782608695652174, Per_element_change: 0.0023760279705147165\n",
      "Done!\n",
      "Testing accuracy:  0.954545454545\n",
      "------------------------------------------------------------\n",
      "Fold 3:\n",
      "NCA progress:\n",
      "Epoch: 0, Acc:0.9772727272727273, Per_element_change: 0.0038525988448262142\n",
      "Epoch: 1, Acc:0.9772727272727273, Per_element_change: 0.0031443749323839835\n",
      "Epoch: 2, Acc:0.9772727272727273, Per_element_change: 0.0026731585420322317\n",
      "Epoch: 3, Acc:0.9772727272727273, Per_element_change: 0.002335523890419338\n",
      "Epoch: 4, Acc:0.9772727272727273, Per_element_change: 0.002095769050273112\n",
      "Epoch: 5, Acc:0.9772727272727273, Per_element_change: 0.0019362748362696557\n",
      "Done!\n",
      "Testing accuracy:  1.0\n"
     ]
    }
   ],
   "source": [
    "knn = kNN(n_neighbors=1, weights='distance', algorithm='brute', n_jobs=4)\n",
    "\n",
    "\n",
    "def training(X, y, A, epochs = 150):\n",
    "    print ('NCA progress:')\n",
    "    lr = 5e-3\n",
    "    count = 0\n",
    "    for i in range(epochs): # 200 iterations\n",
    "        try:\n",
    "            A_prev = np.copy(A)\n",
    "            # do  a simple step of the NCA method, matrix A will be updated\n",
    "            A = nca_fast(A, X, y, lr=lr)\n",
    "            Adiff = np.sum(np.abs(A_prev - A))/n_elements_in_A  \n",
    "            Xtransformed = transform(A, X)\n",
    "            Xtrfmed.append(Xtransformed)\n",
    "            A_list.append(A)\n",
    "            acc, _ = assess_perf(knn, Xtransformed, y, scoring='accuracy')\n",
    "            print (\"Epoch: {}, Acc:{}, Per_element_change: {}\".format(i, acc, Adiff))\n",
    "            accs.append(acc)\n",
    "            diffs.append(Adiff)\n",
    "            if acc >= 0.95:\n",
    "                count +=1\n",
    "                if count > 5:\n",
    "                    break\n",
    "        except ValueError:\n",
    "            break\n",
    "    print ('Done!')\n",
    "    return A, A_list, accs, diffs， Xtrfmed\n",
    "\n",
    "def test(X, y, A):\n",
    "    Xtransformed = transform(A, X)\n",
    "    acc, _ = assess_perf(knn, Xtransformed, y, scoring='accuracy')\n",
    "    print (\"Testing accuracy: \", acc)\n",
    "\n",
    "k = 3\n",
    "\n",
    "A_fold_list = []\n",
    "accs_fold_list = []\n",
    "diffs_fold_list = []\n",
    "Xtrfmed_list = []\n",
    "\n",
    "# First fold:\n",
    "print ('-'*60)\n",
    "print ('Fold 1:')\n",
    "X = np.vstack((dataset[1], dataset[2]))\n",
    "y = np.concatenate((labelset[1], labelset[2]))\n",
    "test_X = dataset[0]\n",
    "test_y = labelset[0]\n",
    "\n",
    "A_fold, temp_A_list, temp_accs, temp_diffs, temp_xtr = training(X, y, A)\n",
    "A_fold_list.append(temp_A_list)\n",
    "accs_fold_list.append(temp_accs)\n",
    "diffs_fold_list.append(temp_diffs)\n",
    "Xtrfmed_list.append(temp_xtr)\n",
    "test(test_X, test_y, A_fold)\n",
    "\n",
    "# Second fold:\n",
    "print ('-'*60)\n",
    "print ('Fold 2:')\n",
    "X = np.vstack((dataset[0], dataset[2]))\n",
    "y = np.concatenate((labelset[0], labelset[2]))\n",
    "test_X = dataset[1]\n",
    "test_y = labelset[1]\n",
    "\n",
    "A_fold, temp_A_list, temp_accs, temp_diffs, temp_xtr = training(X, y, A)\n",
    "A_fold_list.append(temp_A_list)\n",
    "accs_fold_list.append(temp_accs)\n",
    "diffs_fold_list.append(temp_diffs)\n",
    "Xtrfmed_list.append(temp_xtr)\n",
    "test(test_X, test_y, A_fold)\n",
    "\n",
    "# Third fold:\n",
    "print ('-'*60)\n",
    "print ('Fold 3:')\n",
    "X = np.vstack((dataset[1], dataset[0]))\n",
    "y = np.concatenate((labelset[1], labelset[0]))\n",
    "test_X = dataset[2]\n",
    "test_y = labelset[2]\n",
    "\n",
    "A_fold, temp_A_list, temp_accs, temp_diffs, temp_xtr = training(X, y, A)\n",
    "A_fold_list.append(temp_A_list)\n",
    "accs_fold_list.append(temp_accs)\n",
    "diffs_fold_list.append(temp_diffs)\n",
    "Xtrfmed_list.append(temp_xtr)\n",
    "test(test_X, test_y, A_fold)\n",
    "\n"
   ]
  },
  {
   "cell_type": "code",
   "execution_count": 27,
   "metadata": {
    "collapsed": false
   },
   "outputs": [
    {
     "data": {
      "text/plain": [
       "<matplotlib.text.Text at 0x1a1ed75080>"
      ]
     },
     "execution_count": 27,
     "metadata": {},
     "output_type": "execute_result"
    },
    {
     "data": {
      "image/png": "[encoded data removed]",
      "text/plain": [
       "<matplotlib.figure.Figure at 0x1a1eeabd68>"
      ]
     },
     "metadata": {},
     "output_type": "display_data"
    }
   ],
   "source": [
    "fig, (ax1, ax2) = plt.subplots(1, 2, figsize=(14,4))\n",
    "ax1.plot(accs)\n",
    "ax2.plot(diffs)\n",
    "ax1.set_xlabel('Epochs (iterations)')\n",
    "ax2.set_xlabel('Epochs (iterations)')\n",
    "ax1.set_ylabel('Accuracy (on tranformed data)')\n",
    "ax2.set_ylabel('Per-element change in A')"
   ]
  },
  {
   "cell_type": "code",
   "execution_count": null,
   "metadata": {
    "collapsed": false
   },
   "outputs": [],
   "source": [
    "# First set up the figure, the axis, and the plot element we want to animate\n",
    "\n",
    "def anime_plot():\n",
    "    fig = plt.figure()\n",
    "    ax = plt.axes(xlim=(-10, 20), ylim=(-10, 20))\n",
    "\n",
    "    #line, = ax.plot([], [], lw=2, color='b')\n",
    "    cl1, = ax.plot([],[], linestyle='', marker='o', color='b')\n",
    "    cl2, = ax.plot([],[], linestyle='', marker='o', color='r')\n",
    "    cl3, = ax.plot([],[], linestyle='', marker='o', color='g')\n",
    "    cl4, = ax.plot([],[], linestyle='', marker='o', color='c')\n",
    "    # initialization function: plot the background of each frame\n",
    "    def init():\n",
    "        cl1.set_data([], [])\n",
    "        cl2.set_data([], [])\n",
    "        cl3.set_data([], [])\n",
    "        cl4.set_data([], [])\n",
    "        return [cl1, cl2, cl3, cl4]\n",
    "\n",
    "    # animation function.  This is called sequentially\n",
    "    def animate(t):\n",
    "        X_transformed_at_t = Xtrfmed[t]\n",
    "        Xtcl1 = X_transformed_at_t[y == 0]\n",
    "        Xtcl2 = X_transformed_at_t[y == 1]\n",
    "        Xtcl3 = X_transformed_at_t[y == 2]\n",
    "        Xtcl4 = X_transformed_at_t[y == 3]\n",
    "        cl1.set_data(Xtcl1[:,0], Xtcl1[:,1])\n",
    "        cl2.set_data(Xtcl2[:,0], Xtcl2[:,1])\n",
    "        cl3.set_data(Xtcl3[:,0], Xtcl3[:,1])\n",
    "        cl4.set_data(Xtcl4[:,0], Xtcl4[:,1])\n",
    "        return [cl1, cl2, ]\n",
    "\n",
    "    # call the animator. \n",
    "    anim = animation.FuncAnimation(fig, animate, init_func=init, \n",
    "                                   frames=range(len(Xtrfmed)), \n",
    "                                   interval=50, blit=True)\n",
    "    plt.grid(True)\n",
    "    HTML(anim.to_html5_video())\n"
   ]
  },
  {
   "cell_type": "code",
   "execution_count": null,
   "metadata": {
    "collapsed": false
   },
   "outputs": [],
   "source": [
    "anime_plot()\n",
    "anime_plot()"
   ]
  },
  {
   "cell_type": "code",
   "execution_count": null,
   "metadata": {
    "collapsed": false
   },
   "outputs": [],
   "source": [
    "print (A_list)"
   ]
  },
  {
   "cell_type": "code",
   "execution_count": null,
   "metadata": {
    "collapsed": true
   },
   "outputs": [],
   "source": []
  }
 ],
 "metadata": {
  "anaconda-cloud": {},
  "kernelspec": {
   "display_name": "Python [conda env:anaconda3]",
   "language": "python",
   "name": "conda-env-anaconda3-py"
  },
  "language_info": {
   "codemirror_mode": {
    "name": "ipython",
    "version": 3
   },
   "file_extension": ".py",
   "mimetype": "text/x-python",
   "name": "python",
   "nbconvert_exporter": "python",
   "pygments_lexer": "ipython3",
   "version": "3.5.2"
  }
 },
 "nbformat": 4,
 "nbformat_minor": 1
}
